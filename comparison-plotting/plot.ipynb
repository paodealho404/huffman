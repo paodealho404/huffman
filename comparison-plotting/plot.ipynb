{
 "cells": [
  {
   "cell_type": "code",
   "execution_count": null,
   "metadata": {},
   "outputs": [],
   "source": [
    "import os, sys\n",
    "import numpy as np\n",
    "import matplotlib as mpl\n",
    "import matplotlib.cbook as cb\n",
    "import matplotlib.pyplot as plt"
   ]
  },
  {
   "cell_type": "code",
   "execution_count": null,
   "metadata": {},
   "outputs": [],
   "source": [
    "def read_file(fname):\n",
    "    data = np.genfromtxt(fname, dtype=int, names=['n', 'abb', 'avl'])\n",
    "    return data"
   ]
  },
  {
   "cell_type": "code",
   "execution_count": null,
   "metadata": {},
   "outputs": [],
   "source": [
    "notebook_path = os.path.abspath(\"plot.ipynb\")\n",
    "file_path = os.path.join(os.path.dirname(notebook_path), \"out.txt\")\n",
    "\n",
    "data = read_file(file_path)\n",
    "data.sort(axis=0)\n",
    "\n",
    "fig = plt.figure(figsize=[10,7])\n",
    "\n",
    "ax = plt.subplot()\n",
    "\n",
    "ax.plot(data['n'], data['abb'], 'o-', label=\"ABB\", lineWidth=2)\n",
    "ax.plot(data['n'], data['avl'], 'o-', label=\"AVL\", lineWidth=2)\n",
    "ax.legend()\n",
    "\n",
    "ax.set(xlabel='Número Procurado', ylabel='Quantidade de Comparações', title=\"ABB vs. AVL\")\n",
    "\n",
    "ax.yaxis.set_major_locator(mpl.ticker.MultipleLocator(2))\n",
    "ax.yaxis.set_minor_locator(mpl.ticker.MultipleLocator(1))\n",
    "\n",
    "ax.xaxis.set_major_locator(mpl.ticker.MultipleLocator(5000))\n",
    "ax.xaxis.set_minor_locator(mpl.ticker.MultipleLocator(2500))\n",
    "\n",
    "plt.show()"
   ]
  }
 ],
 "metadata": {
  "kernelspec": {
   "display_name": "Python 3",
   "language": "python",
   "name": "python3"
  },
  "language_info": {
   "codemirror_mode": {
    "name": "ipython",
    "version": 3
   },
   "file_extension": ".py",
   "mimetype": "text/x-python",
   "name": "python",
   "nbconvert_exporter": "python",
   "pygments_lexer": "ipython3",
   "version": "3.6.9-final"
  }
 },
 "nbformat": 4,
 "nbformat_minor": 4
}